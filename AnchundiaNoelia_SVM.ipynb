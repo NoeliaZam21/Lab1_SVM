{
 "cells": [
  {
   "cell_type": "code",
   "execution_count": 49,
   "id": "5d0e6ee2",
   "metadata": {},
   "outputs": [],
   "source": [
    "\"\"\"Importación de librerías esenciales para SVM\"\"\"\n",
    "import pandas as pd\n",
    "import matplotlib.pyplot as plt\n",
    "from sklearn.preprocessing import LabelEncoder\n",
    "from sklearn.model_selection import train_test_split\n",
    "from sklearn.metrics import precision_score, recall_score, accuracy_score\n",
    "from sklearn import svm\n",
    "from sklearn.metrics import classification_report\n",
    "from sklearn.metrics import confusion_matrix\n",
    "from sklearn.metrics import plot_confusion_matrix"
   ]
  },
  {
   "cell_type": "code",
   "execution_count": 24,
   "id": "ba68fa58",
   "metadata": {},
   "outputs": [],
   "source": [
    "\"\"\"Importación del Dataset\"\"\"\n",
    "df = pd.read_csv('StudentsPerformance.csv', encoding = 'utf-8')"
   ]
  },
  {
   "cell_type": "code",
   "execution_count": 25,
   "id": "f42ff375",
   "metadata": {},
   "outputs": [
    {
     "data": {
      "text/html": [
       "<div>\n",
       "<style scoped>\n",
       "    .dataframe tbody tr th:only-of-type {\n",
       "        vertical-align: middle;\n",
       "    }\n",
       "\n",
       "    .dataframe tbody tr th {\n",
       "        vertical-align: top;\n",
       "    }\n",
       "\n",
       "    .dataframe thead th {\n",
       "        text-align: right;\n",
       "    }\n",
       "</style>\n",
       "<table border=\"1\" class=\"dataframe\">\n",
       "  <thead>\n",
       "    <tr style=\"text-align: right;\">\n",
       "      <th></th>\n",
       "      <th>gender</th>\n",
       "      <th>race</th>\n",
       "      <th>education</th>\n",
       "      <th>lunch</th>\n",
       "      <th>preparation</th>\n",
       "      <th>math_score</th>\n",
       "      <th>reading_score</th>\n",
       "      <th>writing_score</th>\n",
       "      <th>math_passed</th>\n",
       "    </tr>\n",
       "  </thead>\n",
       "  <tbody>\n",
       "    <tr>\n",
       "      <th>0</th>\n",
       "      <td>female</td>\n",
       "      <td>group B</td>\n",
       "      <td>bachelor's degree</td>\n",
       "      <td>standard</td>\n",
       "      <td>none</td>\n",
       "      <td>72</td>\n",
       "      <td>72</td>\n",
       "      <td>74</td>\n",
       "      <td>1</td>\n",
       "    </tr>\n",
       "    <tr>\n",
       "      <th>1</th>\n",
       "      <td>female</td>\n",
       "      <td>group C</td>\n",
       "      <td>some college</td>\n",
       "      <td>standard</td>\n",
       "      <td>completed</td>\n",
       "      <td>69</td>\n",
       "      <td>90</td>\n",
       "      <td>88</td>\n",
       "      <td>0</td>\n",
       "    </tr>\n",
       "    <tr>\n",
       "      <th>2</th>\n",
       "      <td>female</td>\n",
       "      <td>group B</td>\n",
       "      <td>master's degree</td>\n",
       "      <td>standard</td>\n",
       "      <td>none</td>\n",
       "      <td>90</td>\n",
       "      <td>95</td>\n",
       "      <td>93</td>\n",
       "      <td>1</td>\n",
       "    </tr>\n",
       "    <tr>\n",
       "      <th>3</th>\n",
       "      <td>male</td>\n",
       "      <td>group A</td>\n",
       "      <td>associate's degree</td>\n",
       "      <td>free/reduced</td>\n",
       "      <td>none</td>\n",
       "      <td>47</td>\n",
       "      <td>57</td>\n",
       "      <td>44</td>\n",
       "      <td>0</td>\n",
       "    </tr>\n",
       "    <tr>\n",
       "      <th>4</th>\n",
       "      <td>male</td>\n",
       "      <td>group C</td>\n",
       "      <td>some college</td>\n",
       "      <td>standard</td>\n",
       "      <td>none</td>\n",
       "      <td>76</td>\n",
       "      <td>78</td>\n",
       "      <td>75</td>\n",
       "      <td>1</td>\n",
       "    </tr>\n",
       "  </tbody>\n",
       "</table>\n",
       "</div>"
      ],
      "text/plain": [
       "   gender     race           education         lunch preparation  math_score  \\\n",
       "0  female  group B   bachelor's degree      standard        none          72   \n",
       "1  female  group C        some college      standard   completed          69   \n",
       "2  female  group B     master's degree      standard        none          90   \n",
       "3    male  group A  associate's degree  free/reduced        none          47   \n",
       "4    male  group C        some college      standard        none          76   \n",
       "\n",
       "   reading_score  writing_score  math_passed  \n",
       "0             72             74            1  \n",
       "1             90             88            0  \n",
       "2             95             93            1  \n",
       "3             57             44            0  \n",
       "4             78             75            1  "
      ]
     },
     "execution_count": 25,
     "metadata": {},
     "output_type": "execute_result"
    }
   ],
   "source": [
    "\"\"\"Cambio de los nombres de las columnas\"\"\"\n",
    "df.columns = ['gender', 'race', 'education', 'lunch', 'preparation', 'math_score', 'reading_score', 'writing_score']\n",
    "\n",
    "\"\"\"Creación de la función\n",
    "    math_passed, para la calificación de matemáticas \"\"\"\n",
    "\n",
    "df['math_passed'] = df['math_score'].apply(lambda x: 1 if x >= 70 else 0)\n",
    "df.head()"
   ]
  },
  {
   "cell_type": "code",
   "execution_count": 29,
   "id": "154bc2a4",
   "metadata": {},
   "outputs": [
    {
     "data": {
      "text/html": [
       "<div>\n",
       "<style scoped>\n",
       "    .dataframe tbody tr th:only-of-type {\n",
       "        vertical-align: middle;\n",
       "    }\n",
       "\n",
       "    .dataframe tbody tr th {\n",
       "        vertical-align: top;\n",
       "    }\n",
       "\n",
       "    .dataframe thead th {\n",
       "        text-align: right;\n",
       "    }\n",
       "</style>\n",
       "<table border=\"1\" class=\"dataframe\">\n",
       "  <thead>\n",
       "    <tr style=\"text-align: right;\">\n",
       "      <th></th>\n",
       "      <th>gender</th>\n",
       "      <th>race</th>\n",
       "      <th>education</th>\n",
       "      <th>lunch</th>\n",
       "      <th>preparation</th>\n",
       "      <th>writing_passed</th>\n",
       "      <th>math_passed</th>\n",
       "    </tr>\n",
       "  </thead>\n",
       "  <tbody>\n",
       "    <tr>\n",
       "      <th>0</th>\n",
       "      <td>0</td>\n",
       "      <td>1</td>\n",
       "      <td>1</td>\n",
       "      <td>1</td>\n",
       "      <td>1</td>\n",
       "      <td>1</td>\n",
       "      <td>1</td>\n",
       "    </tr>\n",
       "    <tr>\n",
       "      <th>1</th>\n",
       "      <td>0</td>\n",
       "      <td>2</td>\n",
       "      <td>4</td>\n",
       "      <td>1</td>\n",
       "      <td>0</td>\n",
       "      <td>1</td>\n",
       "      <td>0</td>\n",
       "    </tr>\n",
       "    <tr>\n",
       "      <th>2</th>\n",
       "      <td>0</td>\n",
       "      <td>1</td>\n",
       "      <td>3</td>\n",
       "      <td>1</td>\n",
       "      <td>1</td>\n",
       "      <td>1</td>\n",
       "      <td>1</td>\n",
       "    </tr>\n",
       "    <tr>\n",
       "      <th>3</th>\n",
       "      <td>1</td>\n",
       "      <td>0</td>\n",
       "      <td>0</td>\n",
       "      <td>0</td>\n",
       "      <td>1</td>\n",
       "      <td>0</td>\n",
       "      <td>0</td>\n",
       "    </tr>\n",
       "    <tr>\n",
       "      <th>4</th>\n",
       "      <td>1</td>\n",
       "      <td>2</td>\n",
       "      <td>4</td>\n",
       "      <td>1</td>\n",
       "      <td>1</td>\n",
       "      <td>1</td>\n",
       "      <td>1</td>\n",
       "    </tr>\n",
       "  </tbody>\n",
       "</table>\n",
       "</div>"
      ],
      "text/plain": [
       "   gender  race  education  lunch  preparation  writing_passed  math_passed\n",
       "0       0     1          1      1            1               1            1\n",
       "1       0     2          4      1            0               1            0\n",
       "2       0     1          3      1            1               1            1\n",
       "3       1     0          0      0            1               0            0\n",
       "4       1     2          4      1            1               1            1"
      ]
     },
     "execution_count": 29,
     "metadata": {},
     "output_type": "execute_result"
    }
   ],
   "source": [
    "\"\"\"Preparacion de los datos para el modelo\"\"\"\n",
    "df = pd.read_csv('StudentsPerformance.csv', encoding = 'utf-8')\n",
    "df.columns = ['gender', 'race', 'education', 'lunch', 'preparation', 'math_score', 'reading_score', 'writing_score']\n",
    "\n",
    "\"\"\"Declaracion de las condiciones para el puntaje de aprobacion\"\"\"\n",
    "\n",
    "df['writing_passed'] = df['writing_score'].apply(lambda x: 1 if x >= 70 else 0)\n",
    "df['math_passed'] = df['math_score'].apply(lambda x: 1 if x >= 70 else 0)\n",
    "\n",
    "\"\"\"Eliminacion de columnas\"\"\"\n",
    "df.drop(['math_score', 'reading_score', 'writing_score'], axis = 1, inplace = True)\n",
    "\n",
    "\"\"\"Declaracion de la funcion que va a\n",
    "  realizar la conversion\"\"\"\n",
    "LE = LabelEncoder()\n",
    "\n",
    "CATEGORICAL_FEATURES = ['gender', 'race', 'education', 'lunch', 'preparation']\n",
    "\n",
    "\"\"\"Conversion de los datos de (string) a (bolean numericos)\"\"\"\n",
    "for F in CATEGORICAL_FEATURES:\n",
    "    \n",
    "    df[F] = LE.fit_transform(df[F])\n",
    "    \n",
    "df.head()"
   ]
  },
  {
   "cell_type": "code",
   "execution_count": 31,
   "id": "9483e5f3",
   "metadata": {},
   "outputs": [],
   "source": [
    "\"\"\"Division de los datos para el entrenamiento\"\"\"\n",
    "X = df.iloc[:, 0:6]\n",
    "Y = df.iloc[:, 6]\n",
    "class_names = df.iloc\n",
    "\"\"\"Dividir el conjunto de datos en 70% de entrenamiento y 30% de prueba seleccionando registros al azar\"\"\"\n",
    "X_TRAIN, X_TEST, Y_TRAIN, Y_TEST = train_test_split(X, Y, test_size = 0.3)"
   ]
  },
  {
   "cell_type": "code",
   "execution_count": 32,
   "id": "13d543e5",
   "metadata": {},
   "outputs": [],
   "source": [
    "\"\"\"Crear (instanciar) el clasificador svm con kernel lineal\"\"\"\n",
    "clf = svm.SVC(kernel = 'linear')\n",
    "\n",
    "\"\"\"Entrenar el modelo\"\"\"\n",
    "clf.fit(X_TRAIN, Y_TRAIN)\n",
    "\n",
    "\"\"\"Predecir el objetivo (la respuesta) para el conjunto de datos de prueba\"\"\"\n",
    "y_pred = clf.predict(X_TEST)"
   ]
  },
  {
   "cell_type": "code",
   "execution_count": 33,
   "id": "5f752dd0",
   "metadata": {},
   "outputs": [
    {
     "data": {
      "text/plain": [
       "{'Version': '01',\n",
       " 'Precision': 0.7672413793103449,\n",
       " 'Recall': 0.6691729323308271,\n",
       " 'Accuracy': 0.7633333333333333}"
      ]
     },
     "execution_count": 33,
     "metadata": {},
     "output_type": "execute_result"
    }
   ],
   "source": [
    "\"\"\"Evaluación del modelo, mediante Accuracy, Precision, y Recall\"\"\"\n",
    "RESULTS = {'Version'   :'01',\n",
    "               'Precision':precision_score(y_pred, Y_TEST),\n",
    "               'Recall'   :recall_score(y_pred, Y_TEST),\n",
    "               'Accuracy' :accuracy_score(y_pred, Y_TEST)}\n",
    "RESULTS"
   ]
  },
  {
   "cell_type": "code",
   "execution_count": 34,
   "id": "e2bf17c4",
   "metadata": {},
   "outputs": [
    {
     "name": "stdout",
     "output_type": "stream",
     "text": [
      "              precision    recall  f1-score   support\n",
      "\n",
      "           0       0.84      0.76      0.80       184\n",
      "           1       0.67      0.77      0.71       116\n",
      "\n",
      "    accuracy                           0.76       300\n",
      "   macro avg       0.75      0.76      0.76       300\n",
      "weighted avg       0.77      0.76      0.77       300\n",
      "\n"
     ]
    }
   ],
   "source": [
    "\"\"\"Visualización del modelo mediante el método (classification_report)\"\"\"\n",
    "print(classification_report(Y_TEST, y_pred))"
   ]
  },
  {
   "cell_type": "code",
   "execution_count": 46,
   "id": "a6048eff",
   "metadata": {},
   "outputs": [
    {
     "name": "stdout",
     "output_type": "stream",
     "text": [
      "Matriz de Confusión : \n",
      " [[140  44]\n",
      " [ 27  89]]\n"
     ]
    }
   ],
   "source": [
    "\"\"\"Creación de la matriz de confusión\"\"\"\n",
    "\n",
    "df= confusion_matrix(Y_TEST, y_pred)  \n",
    "print (\"Matriz de Confusión : \\n\", df)"
   ]
  },
  {
   "cell_type": "code",
   "execution_count": 50,
   "id": "5b2174d4",
   "metadata": {},
   "outputs": [
    {
     "name": "stderr",
     "output_type": "stream",
     "text": [
      "C:\\Users\\gulna\\anaconda3\\lib\\site-packages\\sklearn\\utils\\deprecation.py:87: FutureWarning: Function plot_confusion_matrix is deprecated; Function `plot_confusion_matrix` is deprecated in 1.0 and will be removed in 1.2. Use one of the class methods: ConfusionMatrixDisplay.from_predictions or ConfusionMatrixDisplay.from_estimator.\n",
      "  warnings.warn(msg, category=FutureWarning)\n"
     ]
    },
    {
     "data": {
      "image/png": "[encoded data removed]",
      "text/plain": [
       "<Figure size 432x288 with 2 Axes>"
      ]
     },
     "metadata": {
      "needs_background": "light"
     },
     "output_type": "display_data"
    }
   ],
   "source": [
    "\"\"\"Generación de la matriz de confusión (gráfica)\"\"\"\n",
    "matrix = plot_confusion_matrix(clf, X_TEST, Y_TEST,\n",
    "                                 cmap=plt.cm.RdPu)\n",
    "plt.title('Matriz de confusion por clasificación')\n",
    "plt.show(matrix)\n",
    "plt.show()"
   ]
  },
  {
   "cell_type": "code",
   "execution_count": null,
   "id": "1c03d77d",
   "metadata": {},
   "outputs": [],
   "source": []
  }
 ],
 "metadata": {
  "kernelspec": {
   "display_name": "Python 3 (ipykernel)",
   "language": "python",
   "name": "python3"
  },
  "language_info": {
   "codemirror_mode": {
    "name": "ipython",
    "version": 3
   },
   "file_extension": ".py",
   "mimetype": "text/x-python",
   "name": "python",
   "nbconvert_exporter": "python",
   "pygments_lexer": "ipython3",
   "version": "3.9.12"
  }
 },
 "nbformat": 4,
 "nbformat_minor": 5
}
